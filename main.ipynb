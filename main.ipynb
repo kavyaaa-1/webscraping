{
 "cells": [
  {
   "cell_type": "code",
   "execution_count": 20,
   "metadata": {},
   "outputs": [
    {
     "name": "stdout",
     "output_type": "stream",
     "text": [
      "\n",
      "PureTechCodexPrivateLimited\n",
      "\n",
      "\n",
      "\n",
      "\n",
      "rest,python,database,django,debugging,mongodb\n",
      "\n",
      "\n"
     ]
    }
   ],
   "source": [
    "from bs4 import BeautifulSoup\n",
    "import requests\n",
    "\n",
    "html = requests.get('https://www.timesjobs.com/candidate/job-search.html?searchType=personalizedSearch&from=submit&txtKeywords=python&txtLocation=').text\n",
    "soup = BeautifulSoup(html, 'lxml')\n",
    "\n",
    "jobs = soup.find('li', class_ = 'clearfix job-bx wht-shd-bx')\n",
    "\n",
    "company_n = jobs.find('h3', class_ = 'joblist-comp-name').text.replace(' ','')\n",
    "print(company_n)\n",
    "skills = jobs.find('span', class_ = 'srp-skills').text.replace(' ','')\n",
    "print(skills)\n",
    "\n",
    "\n",
    "\n",
    "\n",
    "\n",
    "\n"
   ]
  }
 ],
 "metadata": {
  "interpreter": {
   "hash": "b7415c622a2cd246d9a92e746407d19c15b5ff6770056ccf0aa12df4b72d3bf6"
  },
  "kernelspec": {
   "display_name": "Python 3.9.4 64-bit",
   "language": "python",
   "name": "python3"
  },
  "language_info": {
   "codemirror_mode": {
    "name": "ipython",
    "version": 3
   },
   "file_extension": ".py",
   "mimetype": "text/x-python",
   "name": "python",
   "nbconvert_exporter": "python",
   "pygments_lexer": "ipython3",
   "version": "3.9.4"
  },
  "orig_nbformat": 4
 },
 "nbformat": 4,
 "nbformat_minor": 2
}

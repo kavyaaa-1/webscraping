{
 "cells": [
  {
   "cell_type": "code",
   "execution_count": 2,
   "metadata": {},
   "outputs": [
    {
     "ename": "PermissionError",
     "evalue": "[Errno 13] Permission denied: 'product_list.csv'",
     "output_type": "error",
     "traceback": [
      "\u001b[1;31m---------------------------------------------------------------------------\u001b[0m",
      "\u001b[1;31mPermissionError\u001b[0m                           Traceback (most recent call last)",
      "\u001b[1;32mc:\\Users\\gupta\\basic\\assignment_webscraping\\part1.ipynb Cell 1'\u001b[0m in \u001b[0;36m<cell line: 14>\u001b[1;34m()\u001b[0m\n\u001b[0;32m      <a href='vscode-notebook-cell:/c%3A/Users/gupta/basic/assignment_webscraping/part1.ipynb#ch0000000?line=4'>5</a>\u001b[0m headers \u001b[39m=\u001b[39m {\u001b[39m'\u001b[39m\u001b[39mUser-Agent\u001b[39m\u001b[39m'\u001b[39m: \u001b[39m'\u001b[39m\u001b[39mMozilla/5.0 (Windows NT 10.0; Win64; x64) AppleWebKit/537.36 (KHTML, like Gecko) Chrome/71.0.3578.98 Safari/537.36\u001b[39m\u001b[39m'\u001b[39m, \n\u001b[0;32m      <a href='vscode-notebook-cell:/c%3A/Users/gupta/basic/assignment_webscraping/part1.ipynb#ch0000000?line=5'>6</a>\u001b[0m \u001b[39m'\u001b[39m\u001b[39mAccept\u001b[39m\u001b[39m'\u001b[39m : \u001b[39m'\u001b[39m\u001b[39mtext/html,application/xhtml+xml,application/xml;q=0.9,*/*;q=0.8\u001b[39m\u001b[39m'\u001b[39m, \n\u001b[0;32m      <a href='vscode-notebook-cell:/c%3A/Users/gupta/basic/assignment_webscraping/part1.ipynb#ch0000000?line=6'>7</a>\u001b[0m \u001b[39m'\u001b[39m\u001b[39mAccept-Language\u001b[39m\u001b[39m'\u001b[39m : \u001b[39m'\u001b[39m\u001b[39men-US,en;q=0.5\u001b[39m\u001b[39m'\u001b[39m,\n\u001b[0;32m      <a href='vscode-notebook-cell:/c%3A/Users/gupta/basic/assignment_webscraping/part1.ipynb#ch0000000?line=7'>8</a>\u001b[0m \u001b[39m'\u001b[39m\u001b[39mAccept-Encoding\u001b[39m\u001b[39m'\u001b[39m : \u001b[39m'\u001b[39m\u001b[39mgzip\u001b[39m\u001b[39m'\u001b[39m, \n\u001b[0;32m      <a href='vscode-notebook-cell:/c%3A/Users/gupta/basic/assignment_webscraping/part1.ipynb#ch0000000?line=8'>9</a>\u001b[0m \u001b[39m'\u001b[39m\u001b[39mDNT\u001b[39m\u001b[39m'\u001b[39m : \u001b[39m'\u001b[39m\u001b[39m1\u001b[39m\u001b[39m'\u001b[39m, \u001b[39m# Do Not Track Request Header \u001b[39;00m\n\u001b[0;32m     <a href='vscode-notebook-cell:/c%3A/Users/gupta/basic/assignment_webscraping/part1.ipynb#ch0000000?line=9'>10</a>\u001b[0m \u001b[39m'\u001b[39m\u001b[39mConnection\u001b[39m\u001b[39m'\u001b[39m : \u001b[39m'\u001b[39m\u001b[39mclose\u001b[39m\u001b[39m'\u001b[39m}\n\u001b[0;32m     <a href='vscode-notebook-cell:/c%3A/Users/gupta/basic/assignment_webscraping/part1.ipynb#ch0000000?line=11'>12</a>\u001b[0m URL \u001b[39m=\u001b[39m [\u001b[39m'\u001b[39m\u001b[39mhttps://www.amazon.in/s?k=bags&crid=2M096C61O4MLT&qid=1653308124&sprefix=ba\u001b[39m\u001b[39m%\u001b[39m\u001b[39m2Caps\u001b[39m\u001b[39m%\u001b[39m\u001b[39m2C283&ref=sr_pg_1\u001b[39m\u001b[39m'\u001b[39m,\u001b[39m'\u001b[39m\u001b[39mhttps://www.amazon.in/s?k=bags&page=2&crid=2M096C61O4MLT&qid=1653554095&sprefix=ba\u001b[39m\u001b[39m%\u001b[39m\u001b[39m2Caps\u001b[39m\u001b[39m%\u001b[39m\u001b[39m2C283&ref=sr_pg_2\u001b[39m\u001b[39m'\u001b[39m,\u001b[39m'\u001b[39m\u001b[39mhttps://www.amazon.in/s?k=bags&page=3&crid=2M096C61O4MLT&qid=1653554136&sprefix=ba\u001b[39m\u001b[39m%\u001b[39m\u001b[39m2Caps\u001b[39m\u001b[39m%\u001b[39m\u001b[39m2C283&ref=sr_pg_3\u001b[39m\u001b[39m'\u001b[39m,\u001b[39m'\u001b[39m\u001b[39mhttps://www.amazon.in/s?k=bags&page=4&crid=2M096C61O4MLT&qid=1653554140&sprefix=ba\u001b[39m\u001b[39m%\u001b[39m\u001b[39m2Caps\u001b[39m\u001b[39m%\u001b[39m\u001b[39m2C283&ref=sr_pg_4\u001b[39m\u001b[39m'\u001b[39m,\u001b[39m'\u001b[39m\u001b[39mhttps://www.amazon.in/s?k=bags&page=5&crid=2M096C61O4MLT&qid=1653554194&sprefix=ba\u001b[39m\u001b[39m%\u001b[39m\u001b[39m2Caps\u001b[39m\u001b[39m%\u001b[39m\u001b[39m2C283&ref=sr_pg_5\u001b[39m\u001b[39m'\u001b[39m,\u001b[39m'\u001b[39m\u001b[39mhttps://www.amazon.in/s?k=bags&page=5&crid=2M096C61O4MLT&qid=1653554194&sprefix=ba\u001b[39m\u001b[39m%\u001b[39m\u001b[39m2Caps\u001b[39m\u001b[39m%\u001b[39m\u001b[39m2C283&ref=sr_pg_6\u001b[39m\u001b[39m'\u001b[39m,\u001b[39m'\u001b[39m\u001b[39mhttps://www.amazon.in/s?k=bags&page=5&crid=2M096C61O4MLT&qid=1653554194&sprefix=ba\u001b[39m\u001b[39m%\u001b[39m\u001b[39m2Caps\u001b[39m\u001b[39m%\u001b[39m\u001b[39m2C283&ref=sr_pg_7\u001b[39m\u001b[39m'\u001b[39m,\u001b[39m'\u001b[39m\u001b[39mhttps://www.amazon.in/s?k=bags&page=5&crid=2M096C61O4MLT&qid=1653554194&sprefix=ba\u001b[39m\u001b[39m%\u001b[39m\u001b[39m2Caps\u001b[39m\u001b[39m%\u001b[39m\u001b[39m2C283&ref=sr_pg_8\u001b[39m\u001b[39m'\u001b[39m,\u001b[39m'\u001b[39m\u001b[39mhttps://www.amazon.in/s?k=bags&page=5&crid=2M096C61O4MLT&qid=1653554194&sprefix=ba\u001b[39m\u001b[39m%\u001b[39m\u001b[39m2Caps\u001b[39m\u001b[39m%\u001b[39m\u001b[39m2C283&ref=sr_pg_9\u001b[39m\u001b[39m'\u001b[39m,\u001b[39m'\u001b[39m\u001b[39mhttps://www.amazon.in/s?k=bags&page=5&crid=2M096C61O4MLT&qid=1653554194&sprefix=ba\u001b[39m\u001b[39m%\u001b[39m\u001b[39m2Caps\u001b[39m\u001b[39m%\u001b[39m\u001b[39m2C283&ref=sr_pg_10\u001b[39m\u001b[39m'\u001b[39m,\u001b[39m'\u001b[39m\u001b[39mhttps://www.amazon.in/s?k=bags&page=5&crid=2M096C61O4MLT&qid=1653554194&sprefix=ba\u001b[39m\u001b[39m%\u001b[39m\u001b[39m2Caps\u001b[39m\u001b[39m%\u001b[39m\u001b[39m2C283&ref=sr_pg_11\u001b[39m\u001b[39m'\u001b[39m,\u001b[39m'\u001b[39m\u001b[39mhttps://www.amazon.in/s?k=bags&page=5&crid=2M096C61O4MLT&qid=1653554194&sprefix=ba\u001b[39m\u001b[39m%\u001b[39m\u001b[39m2Caps\u001b[39m\u001b[39m%\u001b[39m\u001b[39m2C283&ref=sr_pg_12\u001b[39m\u001b[39m'\u001b[39m,\u001b[39m'\u001b[39m\u001b[39mhttps://www.amazon.in/s?k=bags&page=5&crid=2M096C61O4MLT&qid=1653554194&sprefix=ba\u001b[39m\u001b[39m%\u001b[39m\u001b[39m2Caps\u001b[39m\u001b[39m%\u001b[39m\u001b[39m2C283&ref=sr_pg_13\u001b[39m\u001b[39m'\u001b[39m,\u001b[39m'\u001b[39m\u001b[39mhttps://www.amazon.in/s?k=bags&page=5&crid=2M096C61O4MLT&qid=1653554194&sprefix=ba\u001b[39m\u001b[39m%\u001b[39m\u001b[39m2Caps\u001b[39m\u001b[39m%\u001b[39m\u001b[39m2C283&ref=sr_pg_14\u001b[39m\u001b[39m'\u001b[39m,\u001b[39m'\u001b[39m\u001b[39mhttps://www.amazon.in/s?k=bags&page=5&crid=2M096C61O4MLT&qid=1653554194&sprefix=ba\u001b[39m\u001b[39m%\u001b[39m\u001b[39m2Caps\u001b[39m\u001b[39m%\u001b[39m\u001b[39m2C283&ref=sr_pg_15\u001b[39m\u001b[39m'\u001b[39m,\u001b[39m'\u001b[39m\u001b[39mhttps://www.amazon.in/s?k=bags&page=5&crid=2M096C61O4MLT&qid=1653554194&sprefix=ba\u001b[39m\u001b[39m%\u001b[39m\u001b[39m2Caps\u001b[39m\u001b[39m%\u001b[39m\u001b[39m2C283&ref=sr_pg_16\u001b[39m\u001b[39m'\u001b[39m,\u001b[39m'\u001b[39m\u001b[39mhttps://www.amazon.in/s?k=bags&page=5&crid=2M096C61O4MLT&qid=1653554194&sprefix=ba\u001b[39m\u001b[39m%\u001b[39m\u001b[39m2Caps\u001b[39m\u001b[39m%\u001b[39m\u001b[39m2C283&ref=sr_pg_17\u001b[39m\u001b[39m'\u001b[39m,\u001b[39m'\u001b[39m\u001b[39mhttps://www.amazon.in/s?k=bags&page=5&crid=2M096C61O4MLT&qid=1653554194&sprefix=ba\u001b[39m\u001b[39m%\u001b[39m\u001b[39m2Caps\u001b[39m\u001b[39m%\u001b[39m\u001b[39m2C283&ref=sr_pg_18\u001b[39m\u001b[39m'\u001b[39m,\u001b[39m'\u001b[39m\u001b[39mhttps://www.amazon.in/s?k=bags&page=5&crid=2M096C61O4MLT&qid=1653554194&sprefix=ba\u001b[39m\u001b[39m%\u001b[39m\u001b[39m2Caps\u001b[39m\u001b[39m%\u001b[39m\u001b[39m2C283&ref=sr_pg_19\u001b[39m\u001b[39m'\u001b[39m,\u001b[39m'\u001b[39m\u001b[39mhttps://www.amazon.in/s?k=bags&page=5&crid=2M096C61O4MLT&qid=1653554194&sprefix=ba\u001b[39m\u001b[39m%\u001b[39m\u001b[39m2Caps\u001b[39m\u001b[39m%\u001b[39m\u001b[39m2C283&ref=sr_pg_20\u001b[39m\u001b[39m'\u001b[39m]\n\u001b[1;32m---> <a href='vscode-notebook-cell:/c%3A/Users/gupta/basic/assignment_webscraping/part1.ipynb#ch0000000?line=13'>14</a>\u001b[0m \u001b[39mwith\u001b[39;00m \u001b[39mopen\u001b[39;49m(\u001b[39m'\u001b[39;49m\u001b[39mproduct_list.csv\u001b[39;49m\u001b[39m'\u001b[39;49m,\u001b[39m'\u001b[39;49m\u001b[39mw\u001b[39;49m\u001b[39m'\u001b[39;49m,encoding \u001b[39m=\u001b[39;49m \u001b[39m'\u001b[39;49m\u001b[39mutf8\u001b[39;49m\u001b[39m'\u001b[39;49m, newline\u001b[39m=\u001b[39;49m\u001b[39m'\u001b[39;49m\u001b[39m'\u001b[39;49m) \u001b[39mas\u001b[39;00m f:\n\u001b[0;32m     <a href='vscode-notebook-cell:/c%3A/Users/gupta/basic/assignment_webscraping/part1.ipynb#ch0000000?line=14'>15</a>\u001b[0m     thewriter \u001b[39m=\u001b[39m csv\u001b[39m.\u001b[39mwriter(f)\n\u001b[0;32m     <a href='vscode-notebook-cell:/c%3A/Users/gupta/basic/assignment_webscraping/part1.ipynb#ch0000000?line=15'>16</a>\u001b[0m     header \u001b[39m=\u001b[39m [\u001b[39m'\u001b[39m\u001b[39mURL\u001b[39m\u001b[39m'\u001b[39m , \u001b[39m'\u001b[39m\u001b[39mProduct Name\u001b[39m\u001b[39m'\u001b[39m , \u001b[39m'\u001b[39m\u001b[39mPrice\u001b[39m\u001b[39m'\u001b[39m , \u001b[39m'\u001b[39m\u001b[39mRating\u001b[39m\u001b[39m'\u001b[39m , \u001b[39m'\u001b[39m\u001b[39mNo of reviews\u001b[39m\u001b[39m'\u001b[39m]   \n",
      "\u001b[1;31mPermissionError\u001b[0m: [Errno 13] Permission denied: 'product_list.csv'"
     ]
    }
   ],
   "source": [
    "from bs4 import BeautifulSoup\n",
    "import requests\n",
    "import csv\n",
    "\n",
    "headers = {'User-Agent': 'Mozilla/5.0 (Windows NT 10.0; Win64; x64) AppleWebKit/537.36 (KHTML, like Gecko) Chrome/71.0.3578.98 Safari/537.36', \n",
    "'Accept' : 'text/html,application/xhtml+xml,application/xml;q=0.9,*/*;q=0.8', \n",
    "'Accept-Language' : 'en-US,en;q=0.5',\n",
    "'Accept-Encoding' : 'gzip', \n",
    "'DNT' : '1', # Do Not Track Request Header \n",
    "'Connection' : 'close'}\n",
    "\n",
    "URL = ['https://www.amazon.in/s?k=bags&crid=2M096C61O4MLT&qid=1653308124&sprefix=ba%2Caps%2C283&ref=sr_pg_1','https://www.amazon.in/s?k=bags&page=2&crid=2M096C61O4MLT&qid=1653554095&sprefix=ba%2Caps%2C283&ref=sr_pg_2','https://www.amazon.in/s?k=bags&page=3&crid=2M096C61O4MLT&qid=1653554136&sprefix=ba%2Caps%2C283&ref=sr_pg_3','https://www.amazon.in/s?k=bags&page=4&crid=2M096C61O4MLT&qid=1653554140&sprefix=ba%2Caps%2C283&ref=sr_pg_4','https://www.amazon.in/s?k=bags&page=5&crid=2M096C61O4MLT&qid=1653554194&sprefix=ba%2Caps%2C283&ref=sr_pg_5','https://www.amazon.in/s?k=bags&page=5&crid=2M096C61O4MLT&qid=1653554194&sprefix=ba%2Caps%2C283&ref=sr_pg_6','https://www.amazon.in/s?k=bags&page=5&crid=2M096C61O4MLT&qid=1653554194&sprefix=ba%2Caps%2C283&ref=sr_pg_7','https://www.amazon.in/s?k=bags&page=5&crid=2M096C61O4MLT&qid=1653554194&sprefix=ba%2Caps%2C283&ref=sr_pg_8','https://www.amazon.in/s?k=bags&page=5&crid=2M096C61O4MLT&qid=1653554194&sprefix=ba%2Caps%2C283&ref=sr_pg_9','https://www.amazon.in/s?k=bags&page=5&crid=2M096C61O4MLT&qid=1653554194&sprefix=ba%2Caps%2C283&ref=sr_pg_10','https://www.amazon.in/s?k=bags&page=5&crid=2M096C61O4MLT&qid=1653554194&sprefix=ba%2Caps%2C283&ref=sr_pg_11','https://www.amazon.in/s?k=bags&page=5&crid=2M096C61O4MLT&qid=1653554194&sprefix=ba%2Caps%2C283&ref=sr_pg_12','https://www.amazon.in/s?k=bags&page=5&crid=2M096C61O4MLT&qid=1653554194&sprefix=ba%2Caps%2C283&ref=sr_pg_13','https://www.amazon.in/s?k=bags&page=5&crid=2M096C61O4MLT&qid=1653554194&sprefix=ba%2Caps%2C283&ref=sr_pg_14','https://www.amazon.in/s?k=bags&page=5&crid=2M096C61O4MLT&qid=1653554194&sprefix=ba%2Caps%2C283&ref=sr_pg_15','https://www.amazon.in/s?k=bags&page=5&crid=2M096C61O4MLT&qid=1653554194&sprefix=ba%2Caps%2C283&ref=sr_pg_16','https://www.amazon.in/s?k=bags&page=5&crid=2M096C61O4MLT&qid=1653554194&sprefix=ba%2Caps%2C283&ref=sr_pg_17','https://www.amazon.in/s?k=bags&page=5&crid=2M096C61O4MLT&qid=1653554194&sprefix=ba%2Caps%2C283&ref=sr_pg_18','https://www.amazon.in/s?k=bags&page=5&crid=2M096C61O4MLT&qid=1653554194&sprefix=ba%2Caps%2C283&ref=sr_pg_19','https://www.amazon.in/s?k=bags&page=5&crid=2M096C61O4MLT&qid=1653554194&sprefix=ba%2Caps%2C283&ref=sr_pg_20']\n",
    "\n",
    "with open('product_list.csv','w',encoding = 'utf8', newline='') as f:\n",
    "    thewriter = csv.writer(f)\n",
    "    header = ['URL' , 'Product Name' , 'Price' , 'Rating' , 'No of reviews']   \n",
    "    thewriter.writerow(header) \n",
    "    \n",
    "    for url in URL:\n",
    "        html = requests.get(url, headers = headers).text\n",
    "        soup = BeautifulSoup(html, 'lxml')\n",
    "\n",
    "        products_info = soup.findAll('div', class_ = 'sg-col sg-col-4-of-12 sg-col-8-of-16 sg-col-12-of-20 s-list-col-right')\n",
    "        #print(product_info)\n",
    "\n",
    "        for product_info in products_info:\n",
    "\n",
    "            product = product_info.find('h2', class_ = 'a-size-mini a-spacing-none a-color-base s-line-clamp-2')\n",
    "\n",
    "            url = product.a['href']\n",
    "            #print(f\"URL: {url}\")\n",
    "            name = product.find('span', class_ = 'a-size-medium a-color-base a-text-normal').text\n",
    "            #print(f\"Product Name: {name}\")\n",
    "\n",
    "            try:\n",
    "                price = product_info.find('span', class_ = 'a-price-whole').text\n",
    "                #print(f\"Price: {price}\")\n",
    "                        \n",
    "            except AttributeError:\n",
    "                print(\"No price available\")\n",
    "\n",
    "            try:\n",
    "                rating = product_info.find('div', class_ = 'a-row a-size-small')\n",
    "                rating_stars = rating.span['aria-label']\n",
    "                #print(f\"Rating = {rating_stars}\")\n",
    "\n",
    "                no_of_reviews = rating.find('span', class_ = 'a-size-base s-light-weight-text').text\n",
    "                #print(f\"No of reviews: {no_of_reviews}\")\n",
    "\n",
    "            except AttributeError:\n",
    "                print(\"No reviews\")\n",
    "\n",
    "            info = [url , name , price , rating_stars , no_of_reviews]\n",
    "            thewriter.writerow(info)\n",
    "\n",
    "\n",
    "\n"
   ]
  }
 ],
 "metadata": {
  "interpreter": {
   "hash": "b7415c622a2cd246d9a92e746407d19c15b5ff6770056ccf0aa12df4b72d3bf6"
  },
  "kernelspec": {
   "display_name": "Python 3.9.4 64-bit",
   "language": "python",
   "name": "python3"
  },
  "language_info": {
   "codemirror_mode": {
    "name": "ipython",
    "version": 3
   },
   "file_extension": ".py",
   "mimetype": "text/x-python",
   "name": "python",
   "nbconvert_exporter": "python",
   "pygments_lexer": "ipython3",
   "version": "3.9.4"
  },
  "orig_nbformat": 4
 },
 "nbformat": 4,
 "nbformat_minor": 2
}
